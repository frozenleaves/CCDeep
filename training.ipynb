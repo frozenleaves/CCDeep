{
 "cells": [
  {
   "cell_type": "markdown",
   "id": "3dd75dcc",
   "metadata": {},
   "source": [
    "**<font color=red>在开始训练之前，请对照`config.py`修改一些特定的配置变量的路径，使其对应，确保每个路径都是有效的。</font>**"
   ]
  },
  {
   "cell_type": "markdown",
   "id": "893b6574",
   "metadata": {},
   "source": [
    "#### 开始训练"
   ]
  },
  {
   "cell_type": "markdown",
   "id": "4f7b4c04",
   "metadata": {},
   "source": [
    "当您确保所有路径都无误后，就可以在`train.py`所在路径下执行训练:\n",
    "\n",
    "        python train.py -s    # 训练分割模型\n",
    "   \n",
    "        python train.py -c    # 训练分类模型\n",
    "   \n",
    "\n",
    "*note：不建议同时调用 `-s` 和 `-c`，因为这样会同时开始训练两个模型，对计算机特别是GPU造成的负载太大，甚至报错。*"
   ]
  },
  {
   "cell_type": "markdown",
   "id": "860cb109",
   "metadata": {},
   "source": [
    "当训练完成后，./models目录下会保存有相应的模型，best和final分别是训练过程中结果最好的模型，以及训练完成时保存的模型，都可以调用。"
   ]
  },
  {
   "cell_type": "code",
   "execution_count": null,
   "id": "d3e1a404",
   "metadata": {},
   "outputs": [],
   "source": []
  }
 ],
 "metadata": {
  "kernelspec": {
   "display_name": "tensorflow",
   "language": "python",
   "name": "tensorflow"
  },
  "language_info": {
   "codemirror_mode": {
    "name": "ipython",
    "version": 3
   },
   "file_extension": ".py",
   "mimetype": "text/x-python",
   "name": "python",
   "nbconvert_exporter": "python",
   "pygments_lexer": "ipython3",
   "version": "3.7.13"
  }
 },
 "nbformat": 4,
 "nbformat_minor": 5
}
