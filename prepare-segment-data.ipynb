{
 "cells": [
  {
   "cell_type": "markdown",
   "id": "f87e9d33",
   "metadata": {},
   "source": [
    "### Prepare data for cell segmentation model training"
   ]
  },
  {
   "cell_type": "markdown",
   "id": "acea067f",
   "metadata": {},
   "source": [
    "对于训练分割模型的数据，您需要准备的内容很少，原始tif图像和mask文件即可。\n",
    "\n",
    "我们确信您有足够的训练图像以及相应的json标注文件，因此您可以调用`CCDeep/utils.py`中的`json2mask(JsonFilePath, img, mask)`函数。\n",
    "\n",
    "`img`为您的原始tif图像所在文件夹，`mask`是您保存生成的mask文件所在文件夹，如果转化成功，此函数会返回`True`，并且相应的mask文件会存储在您指定的位置。"
   ]
  },
  {
   "cell_type": "markdown",
   "id": "ace2552e",
   "metadata": {},
   "source": [
    "您需要将`config.py`中的`train_dataset_20x`指定为原始图像文件夹所在路径，将`train_label_20x`指定为mask文件夹所在路径。\n",
    "我们推荐您将数据组织如下：\n",
    "\n",
    "    segment/\n",
    "        |\n",
    "        |__train/\n",
    "        |    |__images/\n",
    "        |    |__masks/\n",
    "        |\n",
    "        |__test/\n",
    "        |    |__images/\n",
    "        |    |__masks/"
   ]
  },
  {
   "cell_type": "code",
   "execution_count": null,
   "id": "1661c340",
   "metadata": {},
   "outputs": [],
   "source": []
  }
 ],
 "metadata": {
  "kernelspec": {
   "display_name": "tensorflow",
   "language": "python",
   "name": "tensorflow"
  },
  "language_info": {
   "codemirror_mode": {
    "name": "ipython",
    "version": 3
   },
   "file_extension": ".py",
   "mimetype": "text/x-python",
   "name": "python",
   "nbconvert_exporter": "python",
   "pygments_lexer": "ipython3",
   "version": "3.7.13"
  }
 },
 "nbformat": 4,
 "nbformat_minor": 5
}
