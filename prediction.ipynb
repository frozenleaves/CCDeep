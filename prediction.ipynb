{
 "cells": [
  {
   "cell_type": "markdown",
   "id": "46484821",
   "metadata": {},
   "source": [
    "### Start prediction"
   ]
  },
  {
   "cell_type": "markdown",
   "id": "0b2533b7",
   "metadata": {},
   "source": [
    "**After all training step, you can cd to `main.py` located directory, and run `main.py`, to start using your own model to prediction, you need to provide some <font color=red>Required Parameters</font>, look here:**"
   ]
  },
  {
   "cell_type": "markdown",
   "id": "d8906f4f",
   "metadata": {},
   "source": [
    " required paraneters:\n",
    "\n",
    "`-p` or `--pcna`: pcna image path，required\n",
    "\n",
    "`-bf` or `--bf`: dic bright image path，required\n",
    "\n",
    "`-js` or `--js`:The path to the json annotation file used to track the cell cycle，if you called `-ns` command,this parameter is required, otherwise it is not need to provide.\n",
    "\n",
    "more parameters please look [quick start](./quick_start.ipynb).\n"
   ]
  },
  {
   "cell_type": "markdown",
   "id": "73220cde",
   "metadata": {},
   "source": [
    "1. Just do the segmentation, don't tracking cell cycle phase:\n",
    "`python -p ./examples/images/example_of_mcy.tif -bf ./examples/images/example_of_dic.tif -o ./examples/example.json`\n",
    "this command can segment our demo image and give a json output in `./examples/`,you can import it to VGG Image Annotator to visualize the segmentation result.\n",
    "\n",
    "2. Just do the tracking by exists json annotation file: \n",
    "`python -p ./examples/images/example_of_mcy.tif -bf ./examples/images/example_of_dic.tif -js ./examples/example.json -ns -ot ./examples/example_tracking`\n",
    "this command can track the cell cycle by your given json file, the tracking result will save to `-ot` indicate path.\n",
    "\n",
    "3. Do segmentation and cell cycle tracking:"
   ]
  }
 ],
 "metadata": {
  "kernelspec": {
   "display_name": "tensorflow",
   "language": "python",
   "name": "tensorflow"
  },
  "language_info": {
   "codemirror_mode": {
    "name": "ipython",
    "version": 3
   },
   "file_extension": ".py",
   "mimetype": "text/x-python",
   "name": "python",
   "nbconvert_exporter": "python",
   "pygments_lexer": "ipython3",
   "version": "3.7.13"
  }
 },
 "nbformat": 4,
 "nbformat_minor": 5
}
